{
 "cells": [
  {
   "cell_type": "code",
   "execution_count": null,
   "id": "d409c3b5-e992-48ee-98e6-b94633c31767",
   "metadata": {},
   "outputs": [],
   "source": []
  }
 ],
 "metadata": {
  "kernelspec": {
   "display_name": "",
   "name": ""
  },
  "language_info": {
   "name": ""
  }
 },
 "nbformat": 4,
 "nbformat_minor": 5
}
